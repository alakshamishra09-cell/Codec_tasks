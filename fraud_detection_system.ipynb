{
 "cells": [
  {
   "cell_type": "markdown",
   "id": "54cde169",
   "metadata": {},
   "source": [
    "\n",
    "# 🛡️ Fraud Detection System\n",
    "\n",
    "## 🎯 Goal\n",
    "Detect fraudulent transactions in financial data using anomaly detection and classification techniques.\n",
    "\n",
    "---\n",
    "\n",
    "### ✅ Guidelines\n",
    "- Use anomaly detection/classification (Isolation Forest, Autoencoders, Logistic Regression)\n",
    "- Handle class imbalance with SMOTE\n",
    "- Evaluate with F1-score and AUC-ROC\n",
    "\n",
    "---\n"
   ]
  },
  {
   "cell_type": "code",
   "execution_count": null,
   "id": "d7fec220",
   "metadata": {},
   "outputs": [],
   "source": [
    "\n",
    "# 📦 Import Libraries\n",
    "import numpy as np\n",
    "import pandas as pd\n",
    "import matplotlib.pyplot as plt\n",
    "import seaborn as sns\n",
    "\n",
    "from sklearn.model_selection import train_test_split\n",
    "from sklearn.preprocessing import StandardScaler\n",
    "from sklearn.ensemble import IsolationForest\n",
    "from sklearn.linear_model import LogisticRegression\n",
    "from sklearn.metrics import classification_report, confusion_matrix, roc_auc_score, roc_curve\n",
    "\n",
    "from imblearn.over_sampling import SMOTE\n"
   ]
  },
  {
   "cell_type": "code",
   "execution_count": null,
   "id": "f5704c8c",
   "metadata": {},
   "outputs": [],
   "source": [
    "\n",
    "# 📂 Load Dataset\n",
    "# Using Kaggle Credit Card Fraud dataset (or simulated small dataset if unavailable)\n",
    "try:\n",
    "    df = pd.read_csv(\"creditcard.csv\")\n",
    "except:\n",
    "    from sklearn.datasets import make_classification\n",
    "    X, y = make_classification(n_samples=10000, n_features=20, n_classes=2, \n",
    "                               weights=[0.98, 0.02], random_state=42)\n",
    "    df = pd.DataFrame(X, columns=[f'V{i}' for i in range(1, 21)])\n",
    "    df['Class'] = y\n",
    "\n",
    "df.head()\n"
   ]
  },
  {
   "cell_type": "code",
   "execution_count": null,
   "id": "f3110b42",
   "metadata": {},
   "outputs": [],
   "source": [
    "\n",
    "# 📊 Explore Dataset\n",
    "print(df['Class'].value_counts(normalize=True))\n",
    "\n",
    "sns.countplot(x='Class', data=df)\n",
    "plt.title(\"Class Distribution (Imbalance Check)\")\n",
    "plt.show()\n"
   ]
  },
  {
   "cell_type": "code",
   "execution_count": null,
   "id": "9a40a772",
   "metadata": {},
   "outputs": [],
   "source": [
    "\n",
    "# ✂️ Train-Test Split\n",
    "X = df.drop('Class', axis=1)\n",
    "y = df['Class']\n",
    "\n",
    "X_train, X_test, y_train, y_test = train_test_split(X, y, test_size=0.3, random_state=42, stratify=y)\n",
    "\n",
    "# 🔄 Scaling\n",
    "scaler = StandardScaler()\n",
    "X_train_scaled = scaler.fit_transform(X_train)\n",
    "X_test_scaled = scaler.transform(X_test)\n"
   ]
  },
  {
   "cell_type": "code",
   "execution_count": null,
   "id": "b46270db",
   "metadata": {},
   "outputs": [],
   "source": [
    "\n",
    "# 🌲 Isolation Forest\n",
    "iso = IsolationForest(contamination=0.02, random_state=42)\n",
    "y_pred_iso = iso.fit_predict(X_test_scaled)\n",
    "y_pred_iso = [1 if x == -1 else 0 for x in y_pred_iso]\n",
    "\n",
    "print(\"Isolation Forest Results:\")\n",
    "print(classification_report(y_test, y_pred_iso))\n",
    "print(\"ROC-AUC:\", roc_auc_score(y_test, y_pred_iso))\n"
   ]
  },
  {
   "cell_type": "code",
   "execution_count": null,
   "id": "fa0bab11",
   "metadata": {},
   "outputs": [],
   "source": [
    "\n",
    "# 🔄 Handle Class Imbalance with SMOTE\n",
    "smote = SMOTE(random_state=42)\n",
    "X_resampled, y_resampled = smote.fit_resample(X_train_scaled, y_train)\n",
    "\n",
    "# 🤖 Logistic Regression\n",
    "log_reg = LogisticRegression(max_iter=1000)\n",
    "log_reg.fit(X_resampled, y_resampled)\n",
    "y_pred_lr = log_reg.predict(X_test_scaled)\n",
    "y_prob_lr = log_reg.predict_proba(X_test_scaled)[:,1]\n",
    "\n",
    "print(\"Logistic Regression Results (with SMOTE):\")\n",
    "print(classification_report(y_test, y_pred_lr))\n",
    "print(\"ROC-AUC:\", roc_auc_score(y_test, y_prob_lr))\n",
    "\n",
    "# Plot ROC Curve\n",
    "fpr, tpr, _ = roc_curve(y_test, y_prob_lr)\n",
    "plt.plot(fpr, tpr, label=\"Logistic Regression (AUC = %.2f)\" % roc_auc_score(y_test, y_prob_lr))\n",
    "plt.plot([0,1],[0,1],'k--')\n",
    "plt.xlabel(\"False Positive Rate\")\n",
    "plt.ylabel(\"True Positive Rate\")\n",
    "plt.title(\"ROC Curve\")\n",
    "plt.legend()\n",
    "plt.show()\n"
   ]
  },
  {
   "cell_type": "markdown",
   "id": "59b30d5c",
   "metadata": {},
   "source": [
    "\n",
    "# 📌 Summary\n",
    "- Isolation Forest detected anomalies but had limitations in precision/recall.\n",
    "- Logistic Regression with **SMOTE** handled class imbalance better and achieved higher ROC-AUC.\n",
    "- Performance metrics: **F1-score & ROC-AUC** were key in evaluating results.\n",
    "\n",
    "🚀 This notebook demonstrates a basic fraud detection pipeline suitable for financial applications.\n"
   ]
  }
 ],
 "metadata": {},
 "nbformat": 4,
 "nbformat_minor": 5
}